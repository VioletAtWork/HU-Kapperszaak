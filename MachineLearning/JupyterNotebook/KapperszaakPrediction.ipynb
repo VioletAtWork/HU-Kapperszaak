{
 "cells": [
  {
   "cell_type": "code",
   "execution_count": 3,
   "id": "f29cc7b4",
   "metadata": {},
   "outputs": [
    {
     "data": {
      "text/plain": [
       "array([ 5,  5,  1, 10,  5, 10,  5,  5, 10,  5,  5, 10,  1,  5,  5,  5, 30,\n",
       "        5,  5, 10, 10,  5], dtype=int64)"
      ]
     },
     "execution_count": 3,
     "metadata": {},
     "output_type": "execute_result"
    }
   ],
   "source": [
    "import numpy as np\n",
    "import pandas as pd # data processing, CSV file I/O (e.g. pd.read_csv)\n",
    "from sklearn.tree import DecisionTreeClassifier\n",
    "from sklearn.ensemble import RandomForestClassifier\n",
    "\n",
    "train_data = pd.read_csv(\"data/train.csv\")\n",
    "test_data = pd.read_csv(\"data/test.csv\")\n",
    "\n",
    "train_data.head()\n",
    "test_data.head()\n",
    "\n",
    "# X = train_data.drop(columns=['Busyness'])\n",
    "# y = train_data['Busyness']\n",
    "# data.head()\n",
    "\n",
    "# model = DecisionTreeClassifier()\n",
    "# model.fit(X,y)\n",
    "# predictions = model.predict(['yes'],['0%'],['Mon/Tue/Wed/Thur'],['13:00'],)\n",
    "# predicions\n",
    "\n",
    "y = train_data[\"Busyness\"]\n",
    "\n",
    "features = [\"Holiday\",\"Day\", \"Hour\"]\n",
    "X = pd.get_dummies(train_data[features])\n",
    "X_test = pd.get_dummies(test_data[features])\n",
    "\n",
    "model = RandomForestClassifier(n_estimators=100, max_depth=5, random_state=1)\n",
    "model.fit(X,y)\n",
    "predictions = model.predict(X_test)\n",
    "predictions"
   ]
  },
  {
   "cell_type": "code",
   "execution_count": null,
   "id": "2cb79b1f",
   "metadata": {},
   "outputs": [],
   "source": []
  },
  {
   "cell_type": "code",
   "execution_count": null,
   "id": "a96fbe28",
   "metadata": {},
   "outputs": [],
   "source": []
  }
 ],
 "metadata": {
  "kernelspec": {
   "display_name": "Python 3 (ipykernel)",
   "language": "python",
   "name": "python3"
  },
  "language_info": {
   "codemirror_mode": {
    "name": "ipython",
    "version": 3
   },
   "file_extension": ".py",
   "mimetype": "text/x-python",
   "name": "python",
   "nbconvert_exporter": "python",
   "pygments_lexer": "ipython3",
   "version": "3.9.12"
  }
 },
 "nbformat": 4,
 "nbformat_minor": 5
}
